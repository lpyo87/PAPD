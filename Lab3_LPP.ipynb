{
 "cells": [
  {
   "attachments": {},
   "cell_type": "markdown",
   "metadata": {},
   "source": [
    "# Laboratorio #3\n",
    "Luis Pedro Pérez - 22008067"
   ]
  },
  {
   "cell_type": "code",
   "execution_count": 1,
   "metadata": {},
   "outputs": [],
   "source": [
    "import pandas as pd\n",
    "import numpy as np\n",
    "import matplotlib.pyplot as plt\n",
    "import seaborn as sns\n",
    "\n",
    "from sklearn.pipeline import Pipeline\n",
    "from sklearn.preprocessing import MinMaxScaler, Binarizer, StandardScaler\n",
    "from sklearn.model_selection import train_test_split\n",
    "from sklearn.metrics import mean_squared_error, r2_score\n",
    "from sklearn.linear_model import Lasso\n",
    "\n",
    "from feature_engine.imputation import MeanMedianImputer, CategoricalImputer\n",
    "from feature_engine.encoding import OrdinalEncoder, RareLabelEncoder, CountFrequencyEncoder\n",
    "from feature_engine.transformation import LogTransformer\n",
    "from feature_engine.selection import DropFeatures"
   ]
  },
  {
   "attachments": {},
   "cell_type": "markdown",
   "metadata": {},
   "source": [
    "Se cargan los datos a la variable df y se extrae las dimensiones"
   ]
  },
  {
   "cell_type": "code",
   "execution_count": 2,
   "metadata": {},
   "outputs": [
    {
     "name": "stdout",
     "output_type": "stream",
     "text": [
      "La dimensión del dataset es de: (14447, 11)\n"
     ]
    },
    {
     "data": {
      "text/html": [
       "<div>\n",
       "<style scoped>\n",
       "    .dataframe tbody tr th:only-of-type {\n",
       "        vertical-align: middle;\n",
       "    }\n",
       "\n",
       "    .dataframe tbody tr th {\n",
       "        vertical-align: top;\n",
       "    }\n",
       "\n",
       "    .dataframe thead th {\n",
       "        text-align: right;\n",
       "    }\n",
       "</style>\n",
       "<table border=\"1\" class=\"dataframe\">\n",
       "  <thead>\n",
       "    <tr style=\"text-align: right;\">\n",
       "      <th></th>\n",
       "      <th>id</th>\n",
       "      <th>longitude</th>\n",
       "      <th>latitude</th>\n",
       "      <th>housing_median_age</th>\n",
       "      <th>total_rooms</th>\n",
       "      <th>total_bedrooms</th>\n",
       "      <th>population</th>\n",
       "      <th>households</th>\n",
       "      <th>median_income</th>\n",
       "      <th>median_house_value</th>\n",
       "      <th>ocean_proximity</th>\n",
       "    </tr>\n",
       "  </thead>\n",
       "  <tbody>\n",
       "    <tr>\n",
       "      <th>0</th>\n",
       "      <td>9744</td>\n",
       "      <td>-121.65</td>\n",
       "      <td>36.77</td>\n",
       "      <td>15</td>\n",
       "      <td>2191</td>\n",
       "      <td>358.0</td>\n",
       "      <td>1150</td>\n",
       "      <td>330</td>\n",
       "      <td>4.7969</td>\n",
       "      <td>227500.0</td>\n",
       "      <td>&lt;1H OCEAN</td>\n",
       "    </tr>\n",
       "    <tr>\n",
       "      <th>1</th>\n",
       "      <td>13893</td>\n",
       "      <td>-116.27</td>\n",
       "      <td>34.13</td>\n",
       "      <td>37</td>\n",
       "      <td>452</td>\n",
       "      <td>109.0</td>\n",
       "      <td>184</td>\n",
       "      <td>59</td>\n",
       "      <td>3.7292</td>\n",
       "      <td>65800.0</td>\n",
       "      <td>INLAND</td>\n",
       "    </tr>\n",
       "    <tr>\n",
       "      <th>2</th>\n",
       "      <td>18277</td>\n",
       "      <td>-122.07</td>\n",
       "      <td>37.34</td>\n",
       "      <td>35</td>\n",
       "      <td>1172</td>\n",
       "      <td>184.0</td>\n",
       "      <td>512</td>\n",
       "      <td>175</td>\n",
       "      <td>7.3561</td>\n",
       "      <td>500001.0</td>\n",
       "      <td>&lt;1H OCEAN</td>\n",
       "    </tr>\n",
       "    <tr>\n",
       "      <th>3</th>\n",
       "      <td>16176</td>\n",
       "      <td>-122.39</td>\n",
       "      <td>37.74</td>\n",
       "      <td>52</td>\n",
       "      <td>126</td>\n",
       "      <td>24.0</td>\n",
       "      <td>37</td>\n",
       "      <td>27</td>\n",
       "      <td>10.2264</td>\n",
       "      <td>225000.0</td>\n",
       "      <td>NEAR BAY</td>\n",
       "    </tr>\n",
       "    <tr>\n",
       "      <th>4</th>\n",
       "      <td>8843</td>\n",
       "      <td>-118.38</td>\n",
       "      <td>34.09</td>\n",
       "      <td>28</td>\n",
       "      <td>4001</td>\n",
       "      <td>1352.0</td>\n",
       "      <td>1799</td>\n",
       "      <td>1220</td>\n",
       "      <td>2.5784</td>\n",
       "      <td>272900.0</td>\n",
       "      <td>&lt;1H OCEAN</td>\n",
       "    </tr>\n",
       "  </tbody>\n",
       "</table>\n",
       "</div>"
      ],
      "text/plain": [
       "      id  longitude  latitude  housing_median_age  total_rooms  \\\n",
       "0   9744    -121.65     36.77                  15         2191   \n",
       "1  13893    -116.27     34.13                  37          452   \n",
       "2  18277    -122.07     37.34                  35         1172   \n",
       "3  16176    -122.39     37.74                  52          126   \n",
       "4   8843    -118.38     34.09                  28         4001   \n",
       "\n",
       "   total_bedrooms  population  households  median_income  median_house_value  \\\n",
       "0           358.0        1150         330         4.7969            227500.0   \n",
       "1           109.0         184          59         3.7292             65800.0   \n",
       "2           184.0         512         175         7.3561            500001.0   \n",
       "3            24.0          37          27        10.2264            225000.0   \n",
       "4          1352.0        1799        1220         2.5784            272900.0   \n",
       "\n",
       "  ocean_proximity  \n",
       "0       <1H OCEAN  \n",
       "1          INLAND  \n",
       "2       <1H OCEAN  \n",
       "3        NEAR BAY  \n",
       "4       <1H OCEAN  "
      ]
     },
     "execution_count": 2,
     "metadata": {},
     "output_type": "execute_result"
    }
   ],
   "source": [
    "df  = pd.read_csv(\"Lab3/train.csv\", sep=\",\")\n",
    "df_2= df.copy()\n",
    "print(\"La dimensión del dataset es de:\", df.shape)\n",
    "df.head()"
   ]
  },
  {
   "attachments": {},
   "cell_type": "markdown",
   "metadata": {},
   "source": [
    "Se extraen los tipos de datos"
   ]
  },
  {
   "cell_type": "code",
   "execution_count": 3,
   "metadata": {},
   "outputs": [
    {
     "data": {
      "text/plain": [
       "id                      int64\n",
       "longitude             float64\n",
       "latitude              float64\n",
       "housing_median_age      int64\n",
       "total_rooms             int64\n",
       "total_bedrooms        float64\n",
       "population              int64\n",
       "households              int64\n",
       "median_income         float64\n",
       "median_house_value    float64\n",
       "ocean_proximity        object\n",
       "dtype: object"
      ]
     },
     "execution_count": 3,
     "metadata": {},
     "output_type": "execute_result"
    }
   ],
   "source": [
    "df.dtypes"
   ]
  },
  {
   "attachments": {},
   "cell_type": "markdown",
   "metadata": {},
   "source": [
    "Se extraen las columnas con valor NA"
   ]
  },
  {
   "cell_type": "code",
   "execution_count": 4,
   "metadata": {},
   "outputs": [
    {
     "name": "stdout",
     "output_type": "stream",
     "text": [
      "Se tienen 1 columnas con NA\n",
      "['total_bedrooms']\n",
      "Los tipos de las columnas son:\n",
      "total_bedrooms    float64\n",
      "dtype: object\n"
     ]
    }
   ],
   "source": [
    "cols_con_na=[col for col in df.columns if (df[col].isnull().mean()>0)]\n",
    "print(f\"Se tienen {len(cols_con_na)} columnas con NA\")\n",
    "print(cols_con_na)\n",
    "print(\"Los tipos de las columnas son:\")\n",
    "print(df[cols_con_na].dtypes)"
   ]
  },
  {
   "attachments": {},
   "cell_type": "markdown",
   "metadata": {},
   "source": [
    "Se obtiene la proporción de faltantes en las columnas que tengan NA"
   ]
  },
  {
   "cell_type": "code",
   "execution_count": 5,
   "metadata": {},
   "outputs": [
    {
     "name": "stdout",
     "output_type": "stream",
     "text": [
      "El total de faltantes para las columnas ['total_bedrooms'], es de: total_bedrooms    0.009483\n",
      "dtype: float64\n"
     ]
    }
   ],
   "source": [
    "prop_nan_per_col = df[cols_con_na].isnull().mean()\n",
    "print(f\"El total de faltantes para las columnas {cols_con_na}, es de: {prop_nan_per_col}\")"
   ]
  },
  {
   "attachments": {},
   "cell_type": "markdown",
   "metadata": {},
   "source": [
    "Se procede a graficar la proporción de las columnas con faltantes"
   ]
  },
  {
   "cell_type": "code",
   "execution_count": 6,
   "metadata": {},
   "outputs": [
    {
     "data": {
      "image/png": "[encoded data removed]",
      "text/plain": [
       "<Figure size 1000x600 with 1 Axes>"
      ]
     },
     "metadata": {},
     "output_type": "display_data"
    }
   ],
   "source": [
    "plt.figure(figsize=(10, 6))\n",
    "prop_nan_per_col.plot(kind='bar')\n",
    "plt.xlabel('Columnas')\n",
    "plt.ylabel('Proporción de faltantes (%)')\n",
    "plt.title('Proporción de faltantes por columna')\n",
    "plt.xticks(rotation=45)\n",
    "plt.tight_layout()\n",
    "plt.show()"
   ]
  },
  {
   "attachments": {},
   "cell_type": "markdown",
   "metadata": {},
   "source": [
    "#### Imputación de datos"
   ]
  },
  {
   "cell_type": "code",
   "execution_count": 7,
   "metadata": {},
   "outputs": [
    {
     "name": "stdout",
     "output_type": "stream",
     "text": [
      "Media: 537.7787561146051\n",
      "Mediana: 433.0\n"
     ]
    }
   ],
   "source": [
    "media= df['total_bedrooms'].mean()\n",
    "mediana = df['total_bedrooms'].median()\n",
    "print(f\"Media: {media}\")\n",
    "print(f\"Mediana: {mediana}\")"
   ]
  },
  {
   "cell_type": "code",
   "execution_count": 8,
   "metadata": {},
   "outputs": [],
   "source": [
    "df['total_bedrooms_mean'] = np.round(df['total_bedrooms'].fillna(media), 0)\n",
    "df['total_bedrooms_median'] = np.round(df['total_bedrooms'].fillna(mediana), 0)\n",
    "df['total_bedrooms_na'] = df['total_bedrooms'].dropna()"
   ]
  },
  {
   "cell_type": "code",
   "execution_count": 9,
   "metadata": {},
   "outputs": [
    {
     "data": {
      "text/plain": [
       "<matplotlib.legend.Legend at 0x22e6a100ad0>"
      ]
     },
     "execution_count": 9,
     "metadata": {},
     "output_type": "execute_result"
    },
    {
     "data": {
      "image/png": "[encoded data removed]",
      "text/plain": [
       "<Figure size 640x480 with 1 Axes>"
      ]
     },
     "metadata": {},
     "output_type": "display_data"
    }
   ],
   "source": [
    "fig= plt.figure()\n",
    "ax = fig.add_subplot(111)\n",
    "\n",
    "df['total_bedrooms'].plot.density(color='red', label= 'Original')\n",
    "df['total_bedrooms_mean'].plot.density(color='blue', label= \"Media\")\n",
    "df['total_bedrooms_median'].plot.density(color='green', label= \"Mediana\")\n",
    "df['total_bedrooms_na'].plot.density(color='orange',label = 'Sin NA')\n",
    "ax.legend()"
   ]
  },
  {
   "cell_type": "code",
   "execution_count": 10,
   "metadata": {},
   "outputs": [
    {
     "data": {
      "image/png": "[encoded data removed]",
      "text/plain": [
       "<Figure size 640x480 with 1 Axes>"
      ]
     },
     "metadata": {},
     "output_type": "display_data"
    }
   ],
   "source": [
    "df[['total_bedrooms','total_bedrooms_mean', 'total_bedrooms_median', 'total_bedrooms_na']].boxplot()\n",
    "plt.show()"
   ]
  },
  {
   "attachments": {},
   "cell_type": "markdown",
   "metadata": {},
   "source": [
    "Debido a que no hay distorción entre el uso de la media y la mediana, se utilizará la media para esta columna"
   ]
  },
  {
   "cell_type": "code",
   "execution_count": 11,
   "metadata": {},
   "outputs": [],
   "source": [
    "df['total_bedrooms']=df['total_bedrooms_mean']\n",
    "#Se procede a eliminar las columnas creadas\n",
    "df.drop(['total_bedrooms_mean','total_bedrooms_median', 'total_bedrooms_na'],axis=1,inplace=True)"
   ]
  },
  {
   "attachments": {},
   "cell_type": "markdown",
   "metadata": {},
   "source": [
    "## Codificación categórica"
   ]
  },
  {
   "cell_type": "code",
   "execution_count": 12,
   "metadata": {},
   "outputs": [],
   "source": [
    "def getCategoryVars(dataset):\n",
    "    cat_colnames=[]\n",
    "    colnames=dataset.columns\n",
    "    for col in colnames:\n",
    "        if(dataset[col].dtype=='object'):\n",
    "            cat_colnames.append(col)\n",
    "    return cat_colnames"
   ]
  },
  {
   "cell_type": "code",
   "execution_count": 13,
   "metadata": {},
   "outputs": [
    {
     "name": "stdout",
     "output_type": "stream",
     "text": [
      "['ocean_proximity']\n"
     ]
    }
   ],
   "source": [
    "cat_cols=getCategoryVars(df)\n",
    "print(cat_cols)"
   ]
  },
  {
   "attachments": {},
   "cell_type": "markdown",
   "metadata": {},
   "source": [
    "Se procede a realizar el análisis para la codificación via One Hot Encoding"
   ]
  },
  {
   "cell_type": "code",
   "execution_count": 14,
   "metadata": {},
   "outputs": [
    {
     "name": "stdout",
     "output_type": "stream",
     "text": [
      "La columna posee un total de 5, por lo que no se puede usar One Hot encoding\n",
      "Las variables para One Hot Encoding son: []\n"
     ]
    }
   ],
   "source": [
    "# Se toma de las columnas como máximo 3 categorías diferentes para hacer el One Hot Encoding\n",
    "one_hot_encoding=[]\n",
    "\n",
    "for i in cat_cols:\n",
    "    if len(df.groupby(i).count())<=3:\n",
    "        print(\"\")\n",
    "        print(df[i].value_counts().sort_values(ascending=False))\n",
    "        one_hot_encoding.append(i)\n",
    "    else:\n",
    "        print(f\"La columna posee un total de {len(df.groupby(i).count())}, por lo que no se puede usar One Hot encoding\")\n",
    "print(f\"Las variables para One Hot Encoding son: {one_hot_encoding}\")"
   ]
  },
  {
   "attachments": {},
   "cell_type": "markdown",
   "metadata": {},
   "source": [
    "Se procede a realizar el análisis para codificación por frecuencia"
   ]
  },
  {
   "cell_type": "code",
   "execution_count": 15,
   "metadata": {},
   "outputs": [
    {
     "name": "stdout",
     "output_type": "stream",
     "text": [
      "\n",
      "<1H OCEAN     6384\n",
      "INLAND        4577\n",
      "NEAR OCEAN    1865\n",
      "NEAR BAY      1619\n",
      "ISLAND           2\n",
      "Name: ocean_proximity, dtype: int64\n",
      "Las variables para Frecuency Encoding son: ['ocean_proximity']\n"
     ]
    }
   ],
   "source": [
    "# Se obtienen las variables para realizar Frecuency encoding a aquellas que poseen mas de 3 categorías\n",
    "\n",
    "freq_encoding=[]\n",
    "\n",
    "for i in cat_cols:\n",
    "    if len(df.groupby(i).count())>3:\n",
    "        print(\"\")\n",
    "        print(df[i].value_counts().sort_values(ascending=False))\n",
    "        freq_encoding.append(i)\n",
    "print(f\"Las variables para Frecuency Encoding son: {freq_encoding}\")"
   ]
  },
  {
   "cell_type": "code",
   "execution_count": 16,
   "metadata": {},
   "outputs": [],
   "source": [
    "# Se crean los diccionarios con las frecuencias de cada variable para realizar el frecuency encoding\n",
    "\n",
    "ocean_proximity_freq_mapper=(df['ocean_proximity'].value_counts().sort_values(ascending=False)).to_dict()"
   ]
  },
  {
   "cell_type": "code",
   "execution_count": 17,
   "metadata": {},
   "outputs": [],
   "source": [
    "# Se mapean las frecuencias con el dataset\n",
    "\n",
    "df['ocean_proximity_code']=df['ocean_proximity'].map(ocean_proximity_freq_mapper)"
   ]
  },
  {
   "attachments": {},
   "cell_type": "markdown",
   "metadata": {},
   "source": [
    "Se depura el dataset para dejar variables numéricas"
   ]
  },
  {
   "cell_type": "code",
   "execution_count": 18,
   "metadata": {},
   "outputs": [],
   "source": [
    "#Se define la función para identificar las columnas y datos\n",
    "def GetVarsNumeric(dataset):\n",
    "    num_colsnames=[]\n",
    "    columnas=dataset.columns\n",
    "\n",
    "    for col in columnas:\n",
    "        if((dataset[col].dtype=='int64') or (dataset[col].dtype=='float')) or (dataset[col].dtype=='uint8'):\n",
    "            num_colsnames.append(col)\n",
    "    return num_colsnames"
   ]
  },
  {
   "cell_type": "code",
   "execution_count": 19,
   "metadata": {},
   "outputs": [
    {
     "name": "stdout",
     "output_type": "stream",
     "text": [
      "['id', 'longitude', 'latitude', 'housing_median_age', 'total_rooms', 'total_bedrooms', 'population', 'households', 'median_income', 'median_house_value', 'ocean_proximity_code']\n"
     ]
    }
   ],
   "source": [
    "num_cols=GetVarsNumeric(df)\n",
    "print(num_cols)"
   ]
  },
  {
   "attachments": {},
   "cell_type": "markdown",
   "metadata": {},
   "source": [
    "Se crea dataset nuevo con columnas codificadas"
   ]
  },
  {
   "cell_type": "code",
   "execution_count": 20,
   "metadata": {},
   "outputs": [
    {
     "data": {
      "text/html": [
       "<div>\n",
       "<style scoped>\n",
       "    .dataframe tbody tr th:only-of-type {\n",
       "        vertical-align: middle;\n",
       "    }\n",
       "\n",
       "    .dataframe tbody tr th {\n",
       "        vertical-align: top;\n",
       "    }\n",
       "\n",
       "    .dataframe thead th {\n",
       "        text-align: right;\n",
       "    }\n",
       "</style>\n",
       "<table border=\"1\" class=\"dataframe\">\n",
       "  <thead>\n",
       "    <tr style=\"text-align: right;\">\n",
       "      <th></th>\n",
       "      <th>id</th>\n",
       "      <th>longitude</th>\n",
       "      <th>latitude</th>\n",
       "      <th>housing_median_age</th>\n",
       "      <th>total_rooms</th>\n",
       "      <th>total_bedrooms</th>\n",
       "      <th>population</th>\n",
       "      <th>households</th>\n",
       "      <th>median_income</th>\n",
       "      <th>median_house_value</th>\n",
       "      <th>ocean_proximity_code</th>\n",
       "    </tr>\n",
       "  </thead>\n",
       "  <tbody>\n",
       "    <tr>\n",
       "      <th>0</th>\n",
       "      <td>9744</td>\n",
       "      <td>-121.65</td>\n",
       "      <td>36.77</td>\n",
       "      <td>15</td>\n",
       "      <td>2191</td>\n",
       "      <td>358.0</td>\n",
       "      <td>1150</td>\n",
       "      <td>330</td>\n",
       "      <td>4.7969</td>\n",
       "      <td>227500.0</td>\n",
       "      <td>6384</td>\n",
       "    </tr>\n",
       "    <tr>\n",
       "      <th>1</th>\n",
       "      <td>13893</td>\n",
       "      <td>-116.27</td>\n",
       "      <td>34.13</td>\n",
       "      <td>37</td>\n",
       "      <td>452</td>\n",
       "      <td>109.0</td>\n",
       "      <td>184</td>\n",
       "      <td>59</td>\n",
       "      <td>3.7292</td>\n",
       "      <td>65800.0</td>\n",
       "      <td>4577</td>\n",
       "    </tr>\n",
       "    <tr>\n",
       "      <th>2</th>\n",
       "      <td>18277</td>\n",
       "      <td>-122.07</td>\n",
       "      <td>37.34</td>\n",
       "      <td>35</td>\n",
       "      <td>1172</td>\n",
       "      <td>184.0</td>\n",
       "      <td>512</td>\n",
       "      <td>175</td>\n",
       "      <td>7.3561</td>\n",
       "      <td>500001.0</td>\n",
       "      <td>6384</td>\n",
       "    </tr>\n",
       "    <tr>\n",
       "      <th>3</th>\n",
       "      <td>16176</td>\n",
       "      <td>-122.39</td>\n",
       "      <td>37.74</td>\n",
       "      <td>52</td>\n",
       "      <td>126</td>\n",
       "      <td>24.0</td>\n",
       "      <td>37</td>\n",
       "      <td>27</td>\n",
       "      <td>10.2264</td>\n",
       "      <td>225000.0</td>\n",
       "      <td>1619</td>\n",
       "    </tr>\n",
       "    <tr>\n",
       "      <th>4</th>\n",
       "      <td>8843</td>\n",
       "      <td>-118.38</td>\n",
       "      <td>34.09</td>\n",
       "      <td>28</td>\n",
       "      <td>4001</td>\n",
       "      <td>1352.0</td>\n",
       "      <td>1799</td>\n",
       "      <td>1220</td>\n",
       "      <td>2.5784</td>\n",
       "      <td>272900.0</td>\n",
       "      <td>6384</td>\n",
       "    </tr>\n",
       "    <tr>\n",
       "      <th>...</th>\n",
       "      <td>...</td>\n",
       "      <td>...</td>\n",
       "      <td>...</td>\n",
       "      <td>...</td>\n",
       "      <td>...</td>\n",
       "      <td>...</td>\n",
       "      <td>...</td>\n",
       "      <td>...</td>\n",
       "      <td>...</td>\n",
       "      <td>...</td>\n",
       "      <td>...</td>\n",
       "    </tr>\n",
       "    <tr>\n",
       "      <th>14442</th>\n",
       "      <td>557</td>\n",
       "      <td>-122.25</td>\n",
       "      <td>37.77</td>\n",
       "      <td>43</td>\n",
       "      <td>4329</td>\n",
       "      <td>1110.0</td>\n",
       "      <td>2086</td>\n",
       "      <td>1053</td>\n",
       "      <td>2.9750</td>\n",
       "      <td>243400.0</td>\n",
       "      <td>1619</td>\n",
       "    </tr>\n",
       "    <tr>\n",
       "      <th>14443</th>\n",
       "      <td>16090</td>\n",
       "      <td>-122.48</td>\n",
       "      <td>37.71</td>\n",
       "      <td>43</td>\n",
       "      <td>3850</td>\n",
       "      <td>1018.0</td>\n",
       "      <td>1497</td>\n",
       "      <td>829</td>\n",
       "      <td>3.5296</td>\n",
       "      <td>400000.0</td>\n",
       "      <td>1865</td>\n",
       "    </tr>\n",
       "    <tr>\n",
       "      <th>14444</th>\n",
       "      <td>9083</td>\n",
       "      <td>-118.17</td>\n",
       "      <td>34.69</td>\n",
       "      <td>12</td>\n",
       "      <td>4881</td>\n",
       "      <td>803.0</td>\n",
       "      <td>2188</td>\n",
       "      <td>724</td>\n",
       "      <td>4.1667</td>\n",
       "      <td>171900.0</td>\n",
       "      <td>4577</td>\n",
       "    </tr>\n",
       "    <tr>\n",
       "      <th>14445</th>\n",
       "      <td>13138</td>\n",
       "      <td>-121.44</td>\n",
       "      <td>38.47</td>\n",
       "      <td>5</td>\n",
       "      <td>5666</td>\n",
       "      <td>1178.0</td>\n",
       "      <td>3139</td>\n",
       "      <td>1131</td>\n",
       "      <td>3.3608</td>\n",
       "      <td>108900.0</td>\n",
       "      <td>4577</td>\n",
       "    </tr>\n",
       "    <tr>\n",
       "      <th>14446</th>\n",
       "      <td>11554</td>\n",
       "      <td>-117.98</td>\n",
       "      <td>33.74</td>\n",
       "      <td>29</td>\n",
       "      <td>3443</td>\n",
       "      <td>635.0</td>\n",
       "      <td>2257</td>\n",
       "      <td>620</td>\n",
       "      <td>4.7404</td>\n",
       "      <td>207500.0</td>\n",
       "      <td>6384</td>\n",
       "    </tr>\n",
       "  </tbody>\n",
       "</table>\n",
       "<p>14447 rows × 11 columns</p>\n",
       "</div>"
      ],
      "text/plain": [
       "          id  longitude  latitude  housing_median_age  total_rooms  \\\n",
       "0       9744    -121.65     36.77                  15         2191   \n",
       "1      13893    -116.27     34.13                  37          452   \n",
       "2      18277    -122.07     37.34                  35         1172   \n",
       "3      16176    -122.39     37.74                  52          126   \n",
       "4       8843    -118.38     34.09                  28         4001   \n",
       "...      ...        ...       ...                 ...          ...   \n",
       "14442    557    -122.25     37.77                  43         4329   \n",
       "14443  16090    -122.48     37.71                  43         3850   \n",
       "14444   9083    -118.17     34.69                  12         4881   \n",
       "14445  13138    -121.44     38.47                   5         5666   \n",
       "14446  11554    -117.98     33.74                  29         3443   \n",
       "\n",
       "       total_bedrooms  population  households  median_income  \\\n",
       "0               358.0        1150         330         4.7969   \n",
       "1               109.0         184          59         3.7292   \n",
       "2               184.0         512         175         7.3561   \n",
       "3                24.0          37          27        10.2264   \n",
       "4              1352.0        1799        1220         2.5784   \n",
       "...               ...         ...         ...            ...   \n",
       "14442          1110.0        2086        1053         2.9750   \n",
       "14443          1018.0        1497         829         3.5296   \n",
       "14444           803.0        2188         724         4.1667   \n",
       "14445          1178.0        3139        1131         3.3608   \n",
       "14446           635.0        2257         620         4.7404   \n",
       "\n",
       "       median_house_value  ocean_proximity_code  \n",
       "0                227500.0                  6384  \n",
       "1                 65800.0                  4577  \n",
       "2                500001.0                  6384  \n",
       "3                225000.0                  1619  \n",
       "4                272900.0                  6384  \n",
       "...                   ...                   ...  \n",
       "14442            243400.0                  1619  \n",
       "14443            400000.0                  1865  \n",
       "14444            171900.0                  4577  \n",
       "14445            108900.0                  4577  \n",
       "14446            207500.0                  6384  \n",
       "\n",
       "[14447 rows x 11 columns]"
      ]
     },
     "execution_count": 20,
     "metadata": {},
     "output_type": "execute_result"
    }
   ],
   "source": [
    "df_cod= df[num_cols]\n",
    "df_cod"
   ]
  },
  {
   "attachments": {},
   "cell_type": "markdown",
   "metadata": {},
   "source": [
    "## Feature Scaling"
   ]
  },
  {
   "attachments": {},
   "cell_type": "markdown",
   "metadata": {},
   "source": [
    "Se obtiene una descripción del dataset"
   ]
  },
  {
   "cell_type": "code",
   "execution_count": 21,
   "metadata": {},
   "outputs": [
    {
     "data": {
      "text/html": [
       "<div>\n",
       "<style scoped>\n",
       "    .dataframe tbody tr th:only-of-type {\n",
       "        vertical-align: middle;\n",
       "    }\n",
       "\n",
       "    .dataframe tbody tr th {\n",
       "        vertical-align: top;\n",
       "    }\n",
       "\n",
       "    .dataframe thead th {\n",
       "        text-align: right;\n",
       "    }\n",
       "</style>\n",
       "<table border=\"1\" class=\"dataframe\">\n",
       "  <thead>\n",
       "    <tr style=\"text-align: right;\">\n",
       "      <th></th>\n",
       "      <th>id</th>\n",
       "      <th>longitude</th>\n",
       "      <th>latitude</th>\n",
       "      <th>housing_median_age</th>\n",
       "      <th>total_rooms</th>\n",
       "      <th>total_bedrooms</th>\n",
       "      <th>population</th>\n",
       "      <th>households</th>\n",
       "      <th>median_income</th>\n",
       "      <th>median_house_value</th>\n",
       "      <th>ocean_proximity_code</th>\n",
       "    </tr>\n",
       "  </thead>\n",
       "  <tbody>\n",
       "    <tr>\n",
       "      <th>count</th>\n",
       "      <td>14447.000000</td>\n",
       "      <td>14447.000000</td>\n",
       "      <td>14447.000000</td>\n",
       "      <td>14447.000000</td>\n",
       "      <td>14447.000000</td>\n",
       "      <td>14447.000000</td>\n",
       "      <td>14447.000000</td>\n",
       "      <td>14447.000000</td>\n",
       "      <td>14447.000000</td>\n",
       "      <td>14447.000000</td>\n",
       "      <td>14447.000000</td>\n",
       "    </tr>\n",
       "    <tr>\n",
       "      <th>mean</th>\n",
       "      <td>10275.451997</td>\n",
       "      <td>-119.580422</td>\n",
       "      <td>35.642011</td>\n",
       "      <td>28.845435</td>\n",
       "      <td>2635.287534</td>\n",
       "      <td>537.780854</td>\n",
       "      <td>1425.171454</td>\n",
       "      <td>500.116772</td>\n",
       "      <td>3.863949</td>\n",
       "      <td>206873.687824</td>\n",
       "      <td>4693.277151</td>\n",
       "    </tr>\n",
       "    <tr>\n",
       "      <th>std</th>\n",
       "      <td>5957.136373</td>\n",
       "      <td>2.003511</td>\n",
       "      <td>2.135526</td>\n",
       "      <td>12.585221</td>\n",
       "      <td>2215.285809</td>\n",
       "      <td>421.997029</td>\n",
       "      <td>1123.733449</td>\n",
       "      <td>386.181946</td>\n",
       "      <td>1.892919</td>\n",
       "      <td>115263.889710</td>\n",
       "      <td>1833.712940</td>\n",
       "    </tr>\n",
       "    <tr>\n",
       "      <th>min</th>\n",
       "      <td>1.000000</td>\n",
       "      <td>-124.300000</td>\n",
       "      <td>32.540000</td>\n",
       "      <td>1.000000</td>\n",
       "      <td>2.000000</td>\n",
       "      <td>1.000000</td>\n",
       "      <td>6.000000</td>\n",
       "      <td>1.000000</td>\n",
       "      <td>0.499900</td>\n",
       "      <td>14999.000000</td>\n",
       "      <td>2.000000</td>\n",
       "    </tr>\n",
       "    <tr>\n",
       "      <th>25%</th>\n",
       "      <td>5139.500000</td>\n",
       "      <td>-121.805000</td>\n",
       "      <td>33.930000</td>\n",
       "      <td>18.000000</td>\n",
       "      <td>1444.000000</td>\n",
       "      <td>297.000000</td>\n",
       "      <td>786.000000</td>\n",
       "      <td>280.000000</td>\n",
       "      <td>2.567150</td>\n",
       "      <td>119600.000000</td>\n",
       "      <td>4577.000000</td>\n",
       "    </tr>\n",
       "    <tr>\n",
       "      <th>50%</th>\n",
       "      <td>10210.000000</td>\n",
       "      <td>-118.500000</td>\n",
       "      <td>34.260000</td>\n",
       "      <td>29.000000</td>\n",
       "      <td>2121.000000</td>\n",
       "      <td>436.000000</td>\n",
       "      <td>1163.000000</td>\n",
       "      <td>408.000000</td>\n",
       "      <td>3.535000</td>\n",
       "      <td>179700.000000</td>\n",
       "      <td>4577.000000</td>\n",
       "    </tr>\n",
       "    <tr>\n",
       "      <th>75%</th>\n",
       "      <td>15449.000000</td>\n",
       "      <td>-118.020000</td>\n",
       "      <td>37.720000</td>\n",
       "      <td>37.000000</td>\n",
       "      <td>3137.500000</td>\n",
       "      <td>644.000000</td>\n",
       "      <td>1722.000000</td>\n",
       "      <td>604.500000</td>\n",
       "      <td>4.722850</td>\n",
       "      <td>264600.000000</td>\n",
       "      <td>6384.000000</td>\n",
       "    </tr>\n",
       "    <tr>\n",
       "      <th>max</th>\n",
       "      <td>20640.000000</td>\n",
       "      <td>-114.310000</td>\n",
       "      <td>41.950000</td>\n",
       "      <td>52.000000</td>\n",
       "      <td>39320.000000</td>\n",
       "      <td>6445.000000</td>\n",
       "      <td>28566.000000</td>\n",
       "      <td>6082.000000</td>\n",
       "      <td>15.000100</td>\n",
       "      <td>500001.000000</td>\n",
       "      <td>6384.000000</td>\n",
       "    </tr>\n",
       "  </tbody>\n",
       "</table>\n",
       "</div>"
      ],
      "text/plain": [
       "                 id     longitude      latitude  housing_median_age  \\\n",
       "count  14447.000000  14447.000000  14447.000000        14447.000000   \n",
       "mean   10275.451997   -119.580422     35.642011           28.845435   \n",
       "std     5957.136373      2.003511      2.135526           12.585221   \n",
       "min        1.000000   -124.300000     32.540000            1.000000   \n",
       "25%     5139.500000   -121.805000     33.930000           18.000000   \n",
       "50%    10210.000000   -118.500000     34.260000           29.000000   \n",
       "75%    15449.000000   -118.020000     37.720000           37.000000   \n",
       "max    20640.000000   -114.310000     41.950000           52.000000   \n",
       "\n",
       "        total_rooms  total_bedrooms    population    households  \\\n",
       "count  14447.000000    14447.000000  14447.000000  14447.000000   \n",
       "mean    2635.287534      537.780854   1425.171454    500.116772   \n",
       "std     2215.285809      421.997029   1123.733449    386.181946   \n",
       "min        2.000000        1.000000      6.000000      1.000000   \n",
       "25%     1444.000000      297.000000    786.000000    280.000000   \n",
       "50%     2121.000000      436.000000   1163.000000    408.000000   \n",
       "75%     3137.500000      644.000000   1722.000000    604.500000   \n",
       "max    39320.000000     6445.000000  28566.000000   6082.000000   \n",
       "\n",
       "       median_income  median_house_value  ocean_proximity_code  \n",
       "count   14447.000000        14447.000000          14447.000000  \n",
       "mean        3.863949       206873.687824           4693.277151  \n",
       "std         1.892919       115263.889710           1833.712940  \n",
       "min         0.499900        14999.000000              2.000000  \n",
       "25%         2.567150       119600.000000           4577.000000  \n",
       "50%         3.535000       179700.000000           4577.000000  \n",
       "75%         4.722850       264600.000000           6384.000000  \n",
       "max        15.000100       500001.000000           6384.000000  "
      ]
     },
     "execution_count": 21,
     "metadata": {},
     "output_type": "execute_result"
    }
   ],
   "source": [
    "df_cod.describe()"
   ]
  },
  {
   "attachments": {},
   "cell_type": "markdown",
   "metadata": {},
   "source": [
    "Se define la función para extraer los dominios de las columnas de un dataset"
   ]
  },
  {
   "cell_type": "code",
   "execution_count": 22,
   "metadata": {},
   "outputs": [],
   "source": [
    "continuas= []\n",
    "discretas= []\n",
    "categoricas= []\n",
    "def getColumnTypes(dataset):\n",
    "    # Descripción: Esta función extrae el tipo de dominio de las columnas de un dataset.\n",
    "    # Entradas: Pandas dataframe\n",
    "    # Salida: Tupla con arreglo que contiene nombres de las columnas \n",
    "    for col in dataset.columns:\n",
    "        if((dataset[col].dtype =='int64') or (dataset[col].dtype == 'float64')):\n",
    "            if(len(dataset[col].unique()) > 30):\n",
    "                continuas.append(col)\n",
    "            else:\n",
    "                discretas.append(col)\n",
    "        else:\n",
    "            categoricas.append(col)\n",
    "    return continuas, discretas, categoricas"
   ]
  },
  {
   "attachments": {},
   "cell_type": "markdown",
   "metadata": {},
   "source": [
    "Se clasifican las variables por tipo de dominio"
   ]
  },
  {
   "cell_type": "code",
   "execution_count": 23,
   "metadata": {},
   "outputs": [
    {
     "name": "stdout",
     "output_type": "stream",
     "text": [
      "['id', 'longitude', 'latitude', 'housing_median_age', 'total_rooms', 'total_bedrooms', 'population', 'households', 'median_income', 'median_house_value']\n",
      "['ocean_proximity_code']\n",
      "[]\n"
     ]
    }
   ],
   "source": [
    "continuas, discretas, categoricas= getColumnTypes(df_cod)\n",
    "print(continuas)\n",
    "print(discretas)\n",
    "print(categoricas)"
   ]
  },
  {
   "attachments": {},
   "cell_type": "markdown",
   "metadata": {},
   "source": [
    "Se extraen las variables que son contínuas y se genera un dataset"
   ]
  },
  {
   "cell_type": "code",
   "execution_count": 24,
   "metadata": {},
   "outputs": [],
   "source": [
    "data_temp = df_cod.copy()[continuas]"
   ]
  },
  {
   "cell_type": "code",
   "execution_count": 25,
   "metadata": {},
   "outputs": [],
   "source": [
    "scaler =  StandardScaler()\n",
    "scaler.fit(data_temp) # calculamos información interna (parámetros) para transformaciones posteriores\n",
    "\n",
    "data_scaled = scaler.transform(data_temp)\n",
    "data_scaled = pd.DataFrame(data_scaled, columns=data_temp.columns)"
   ]
  },
  {
   "cell_type": "code",
   "execution_count": 26,
   "metadata": {},
   "outputs": [
    {
     "data": {
      "text/html": [
       "<div>\n",
       "<style scoped>\n",
       "    .dataframe tbody tr th:only-of-type {\n",
       "        vertical-align: middle;\n",
       "    }\n",
       "\n",
       "    .dataframe tbody tr th {\n",
       "        vertical-align: top;\n",
       "    }\n",
       "\n",
       "    .dataframe thead th {\n",
       "        text-align: right;\n",
       "    }\n",
       "</style>\n",
       "<table border=\"1\" class=\"dataframe\">\n",
       "  <thead>\n",
       "    <tr style=\"text-align: right;\">\n",
       "      <th></th>\n",
       "      <th>id</th>\n",
       "      <th>longitude</th>\n",
       "      <th>latitude</th>\n",
       "      <th>housing_median_age</th>\n",
       "      <th>total_rooms</th>\n",
       "      <th>total_bedrooms</th>\n",
       "      <th>population</th>\n",
       "      <th>households</th>\n",
       "      <th>median_income</th>\n",
       "      <th>median_house_value</th>\n",
       "    </tr>\n",
       "  </thead>\n",
       "  <tbody>\n",
       "    <tr>\n",
       "      <th>count</th>\n",
       "      <td>14447.00</td>\n",
       "      <td>14447.00</td>\n",
       "      <td>14447.00</td>\n",
       "      <td>14447.00</td>\n",
       "      <td>14447.00</td>\n",
       "      <td>14447.00</td>\n",
       "      <td>14447.00</td>\n",
       "      <td>14447.00</td>\n",
       "      <td>14447.00</td>\n",
       "      <td>14447.00</td>\n",
       "    </tr>\n",
       "    <tr>\n",
       "      <th>mean</th>\n",
       "      <td>-0.00</td>\n",
       "      <td>0.00</td>\n",
       "      <td>0.00</td>\n",
       "      <td>0.00</td>\n",
       "      <td>-0.00</td>\n",
       "      <td>-0.00</td>\n",
       "      <td>0.00</td>\n",
       "      <td>-0.00</td>\n",
       "      <td>-0.00</td>\n",
       "      <td>0.00</td>\n",
       "    </tr>\n",
       "    <tr>\n",
       "      <th>std</th>\n",
       "      <td>1.00</td>\n",
       "      <td>1.00</td>\n",
       "      <td>1.00</td>\n",
       "      <td>1.00</td>\n",
       "      <td>1.00</td>\n",
       "      <td>1.00</td>\n",
       "      <td>1.00</td>\n",
       "      <td>1.00</td>\n",
       "      <td>1.00</td>\n",
       "      <td>1.00</td>\n",
       "    </tr>\n",
       "    <tr>\n",
       "      <th>min</th>\n",
       "      <td>-1.72</td>\n",
       "      <td>-2.36</td>\n",
       "      <td>-1.45</td>\n",
       "      <td>-2.21</td>\n",
       "      <td>-1.19</td>\n",
       "      <td>-1.27</td>\n",
       "      <td>-1.26</td>\n",
       "      <td>-1.29</td>\n",
       "      <td>-1.78</td>\n",
       "      <td>-1.66</td>\n",
       "    </tr>\n",
       "    <tr>\n",
       "      <th>25%</th>\n",
       "      <td>-0.86</td>\n",
       "      <td>-1.11</td>\n",
       "      <td>-0.80</td>\n",
       "      <td>-0.86</td>\n",
       "      <td>-0.54</td>\n",
       "      <td>-0.57</td>\n",
       "      <td>-0.57</td>\n",
       "      <td>-0.57</td>\n",
       "      <td>-0.69</td>\n",
       "      <td>-0.76</td>\n",
       "    </tr>\n",
       "    <tr>\n",
       "      <th>50%</th>\n",
       "      <td>-0.01</td>\n",
       "      <td>0.54</td>\n",
       "      <td>-0.65</td>\n",
       "      <td>0.01</td>\n",
       "      <td>-0.23</td>\n",
       "      <td>-0.24</td>\n",
       "      <td>-0.23</td>\n",
       "      <td>-0.24</td>\n",
       "      <td>-0.17</td>\n",
       "      <td>-0.24</td>\n",
       "    </tr>\n",
       "    <tr>\n",
       "      <th>75%</th>\n",
       "      <td>0.87</td>\n",
       "      <td>0.78</td>\n",
       "      <td>0.97</td>\n",
       "      <td>0.65</td>\n",
       "      <td>0.23</td>\n",
       "      <td>0.25</td>\n",
       "      <td>0.26</td>\n",
       "      <td>0.27</td>\n",
       "      <td>0.45</td>\n",
       "      <td>0.50</td>\n",
       "    </tr>\n",
       "    <tr>\n",
       "      <th>max</th>\n",
       "      <td>1.74</td>\n",
       "      <td>2.63</td>\n",
       "      <td>2.95</td>\n",
       "      <td>1.84</td>\n",
       "      <td>16.56</td>\n",
       "      <td>14.00</td>\n",
       "      <td>24.15</td>\n",
       "      <td>14.45</td>\n",
       "      <td>5.88</td>\n",
       "      <td>2.54</td>\n",
       "    </tr>\n",
       "  </tbody>\n",
       "</table>\n",
       "</div>"
      ],
      "text/plain": [
       "             id  longitude  latitude  housing_median_age  total_rooms  \\\n",
       "count  14447.00   14447.00  14447.00            14447.00     14447.00   \n",
       "mean      -0.00       0.00      0.00                0.00        -0.00   \n",
       "std        1.00       1.00      1.00                1.00         1.00   \n",
       "min       -1.72      -2.36     -1.45               -2.21        -1.19   \n",
       "25%       -0.86      -1.11     -0.80               -0.86        -0.54   \n",
       "50%       -0.01       0.54     -0.65                0.01        -0.23   \n",
       "75%        0.87       0.78      0.97                0.65         0.23   \n",
       "max        1.74       2.63      2.95                1.84        16.56   \n",
       "\n",
       "       total_bedrooms  population  households  median_income  \\\n",
       "count        14447.00    14447.00    14447.00       14447.00   \n",
       "mean            -0.00        0.00       -0.00          -0.00   \n",
       "std              1.00        1.00        1.00           1.00   \n",
       "min             -1.27       -1.26       -1.29          -1.78   \n",
       "25%             -0.57       -0.57       -0.57          -0.69   \n",
       "50%             -0.24       -0.23       -0.24          -0.17   \n",
       "75%              0.25        0.26        0.27           0.45   \n",
       "max             14.00       24.15       14.45           5.88   \n",
       "\n",
       "       median_house_value  \n",
       "count            14447.00  \n",
       "mean                 0.00  \n",
       "std                  1.00  \n",
       "min                 -1.66  \n",
       "25%                 -0.76  \n",
       "50%                 -0.24  \n",
       "75%                  0.50  \n",
       "max                  2.54  "
      ]
     },
     "execution_count": 26,
     "metadata": {},
     "output_type": "execute_result"
    }
   ],
   "source": [
    "round(data_scaled.describe(),2)"
   ]
  },
  {
   "cell_type": "code",
   "execution_count": 27,
   "metadata": {},
   "outputs": [
    {
     "data": {
      "image/png": "[encoded data removed]",
      "text/plain": [
       "<Figure size 1200x500 with 2 Axes>"
      ]
     },
     "metadata": {},
     "output_type": "display_data"
    }
   ],
   "source": [
    "fig, (ax1, ax2) = plt.subplots(ncols=2, figsize=(12, 5))\n",
    "\n",
    "ax1.set_title(\"Sin Escala\")\n",
    "sns.kdeplot(data_temp['median_income'], ax=ax1, label=\"median_income\")\n",
    "sns.kdeplot(data_temp['median_house_value'], ax=ax1, label=\"median_house_value\")\n",
    "\n",
    "ax2.set_title(\"Con Escala\")\n",
    "sns.kdeplot(data_scaled['median_income'], ax=ax2, label=\"median_income\")\n",
    "sns.kdeplot(data_scaled['median_house_value'], ax=ax2, label=\"median_house_value\")\n",
    "\n",
    "ax1.legend()\n",
    "ax2.legend()\n",
    "plt.show()"
   ]
  },
  {
   "attachments": {},
   "cell_type": "markdown",
   "metadata": {},
   "source": [
    "## Configuración del Pipeline"
   ]
  },
  {
   "cell_type": "code",
   "execution_count": 47,
   "metadata": {},
   "outputs": [
    {
     "data": {
      "text/plain": [
       "Index(['id', 'longitude', 'latitude', 'housing_median_age', 'total_rooms',\n",
       "       'total_bedrooms', 'population', 'households', 'median_income',\n",
       "       'median_house_value', 'ocean_proximity'],\n",
       "      dtype='object')"
      ]
     },
     "execution_count": 47,
     "metadata": {},
     "output_type": "execute_result"
    }
   ],
   "source": [
    "df_2.columns"
   ]
  },
  {
   "cell_type": "code",
   "execution_count": 48,
   "metadata": {},
   "outputs": [],
   "source": [
    "X_train, X_test, y_train, y_test = train_test_split(\n",
    "    df_2.drop(['id', 'longitude', 'latitude','median_house_value'], axis=1),\n",
    "    df_2['median_house_value'],\n",
    "    test_size=0.3,\n",
    "    random_state=2023)"
   ]
  },
  {
   "cell_type": "code",
   "execution_count": 49,
   "metadata": {},
   "outputs": [],
   "source": [
    "\n",
    "#Imputación de Variables Numéricas:\n",
    "NUMERICAL_VARS_WITH_NA = ['total_bedrooms']\n",
    "\n",
    "#Variables para codificación por frecuencia (no ordinal)\n",
    "CATEGORICAL_VARS = ['ocean_proximity']\n",
    "\n",
    "#Variables a utilzar en el entrenamiento\n",
    "FEATURES = ['housing_median_age', 'total_rooms',\n",
    "       'total_bedrooms', 'population', 'households', 'median_income', 'ocean_proximity']"
   ]
  },
  {
   "cell_type": "code",
   "execution_count": 50,
   "metadata": {},
   "outputs": [],
   "source": [
    "X_train = X_train[FEATURES]"
   ]
  },
  {
   "attachments": {},
   "cell_type": "markdown",
   "metadata": {},
   "source": [
    "### Construcción Pipeline"
   ]
  },
  {
   "cell_type": "code",
   "execution_count": 51,
   "metadata": {},
   "outputs": [
    {
     "data": {
      "text/html": [
       "<div>\n",
       "<style scoped>\n",
       "    .dataframe tbody tr th:only-of-type {\n",
       "        vertical-align: middle;\n",
       "    }\n",
       "\n",
       "    .dataframe tbody tr th {\n",
       "        vertical-align: top;\n",
       "    }\n",
       "\n",
       "    .dataframe thead th {\n",
       "        text-align: right;\n",
       "    }\n",
       "</style>\n",
       "<table border=\"1\" class=\"dataframe\">\n",
       "  <thead>\n",
       "    <tr style=\"text-align: right;\">\n",
       "      <th></th>\n",
       "      <th>housing_median_age</th>\n",
       "      <th>total_rooms</th>\n",
       "      <th>total_bedrooms</th>\n",
       "      <th>population</th>\n",
       "      <th>households</th>\n",
       "      <th>median_income</th>\n",
       "      <th>ocean_proximity</th>\n",
       "    </tr>\n",
       "  </thead>\n",
       "  <tbody>\n",
       "    <tr>\n",
       "      <th>1220</th>\n",
       "      <td>34</td>\n",
       "      <td>1723</td>\n",
       "      <td>279.0</td>\n",
       "      <td>617</td>\n",
       "      <td>252</td>\n",
       "      <td>6.7501</td>\n",
       "      <td>&lt;1H OCEAN</td>\n",
       "    </tr>\n",
       "    <tr>\n",
       "      <th>6446</th>\n",
       "      <td>10</td>\n",
       "      <td>2980</td>\n",
       "      <td>585.0</td>\n",
       "      <td>1593</td>\n",
       "      <td>562</td>\n",
       "      <td>3.2850</td>\n",
       "      <td>&lt;1H OCEAN</td>\n",
       "    </tr>\n",
       "    <tr>\n",
       "      <th>10521</th>\n",
       "      <td>39</td>\n",
       "      <td>2002</td>\n",
       "      <td>416.0</td>\n",
       "      <td>1166</td>\n",
       "      <td>395</td>\n",
       "      <td>1.7257</td>\n",
       "      <td>NEAR BAY</td>\n",
       "    </tr>\n",
       "    <tr>\n",
       "      <th>13367</th>\n",
       "      <td>32</td>\n",
       "      <td>1260</td>\n",
       "      <td>382.0</td>\n",
       "      <td>1434</td>\n",
       "      <td>342</td>\n",
       "      <td>2.0286</td>\n",
       "      <td>&lt;1H OCEAN</td>\n",
       "    </tr>\n",
       "    <tr>\n",
       "      <th>4439</th>\n",
       "      <td>21</td>\n",
       "      <td>2630</td>\n",
       "      <td>446.0</td>\n",
       "      <td>1789</td>\n",
       "      <td>389</td>\n",
       "      <td>5.0543</td>\n",
       "      <td>&lt;1H OCEAN</td>\n",
       "    </tr>\n",
       "    <tr>\n",
       "      <th>...</th>\n",
       "      <td>...</td>\n",
       "      <td>...</td>\n",
       "      <td>...</td>\n",
       "      <td>...</td>\n",
       "      <td>...</td>\n",
       "      <td>...</td>\n",
       "      <td>...</td>\n",
       "    </tr>\n",
       "    <tr>\n",
       "      <th>5852</th>\n",
       "      <td>25</td>\n",
       "      <td>3095</td>\n",
       "      <td>514.0</td>\n",
       "      <td>1251</td>\n",
       "      <td>507</td>\n",
       "      <td>5.5388</td>\n",
       "      <td>&lt;1H OCEAN</td>\n",
       "    </tr>\n",
       "    <tr>\n",
       "      <th>6049</th>\n",
       "      <td>26</td>\n",
       "      <td>3141</td>\n",
       "      <td>670.0</td>\n",
       "      <td>1572</td>\n",
       "      <td>724</td>\n",
       "      <td>3.3472</td>\n",
       "      <td>&lt;1H OCEAN</td>\n",
       "    </tr>\n",
       "    <tr>\n",
       "      <th>2743</th>\n",
       "      <td>21</td>\n",
       "      <td>1899</td>\n",
       "      <td>447.0</td>\n",
       "      <td>1133</td>\n",
       "      <td>391</td>\n",
       "      <td>1.8636</td>\n",
       "      <td>INLAND</td>\n",
       "    </tr>\n",
       "    <tr>\n",
       "      <th>5657</th>\n",
       "      <td>34</td>\n",
       "      <td>2231</td>\n",
       "      <td>545.0</td>\n",
       "      <td>1568</td>\n",
       "      <td>510</td>\n",
       "      <td>1.5217</td>\n",
       "      <td>INLAND</td>\n",
       "    </tr>\n",
       "    <tr>\n",
       "      <th>4951</th>\n",
       "      <td>26</td>\n",
       "      <td>2741</td>\n",
       "      <td>451.0</td>\n",
       "      <td>1217</td>\n",
       "      <td>437</td>\n",
       "      <td>3.7007</td>\n",
       "      <td>INLAND</td>\n",
       "    </tr>\n",
       "  </tbody>\n",
       "</table>\n",
       "<p>10112 rows × 7 columns</p>\n",
       "</div>"
      ],
      "text/plain": [
       "       housing_median_age  total_rooms  total_bedrooms  population  \\\n",
       "1220                   34         1723           279.0         617   \n",
       "6446                   10         2980           585.0        1593   \n",
       "10521                  39         2002           416.0        1166   \n",
       "13367                  32         1260           382.0        1434   \n",
       "4439                   21         2630           446.0        1789   \n",
       "...                   ...          ...             ...         ...   \n",
       "5852                   25         3095           514.0        1251   \n",
       "6049                   26         3141           670.0        1572   \n",
       "2743                   21         1899           447.0        1133   \n",
       "5657                   34         2231           545.0        1568   \n",
       "4951                   26         2741           451.0        1217   \n",
       "\n",
       "       households  median_income ocean_proximity  \n",
       "1220          252         6.7501       <1H OCEAN  \n",
       "6446          562         3.2850       <1H OCEAN  \n",
       "10521         395         1.7257        NEAR BAY  \n",
       "13367         342         2.0286       <1H OCEAN  \n",
       "4439          389         5.0543       <1H OCEAN  \n",
       "...           ...            ...             ...  \n",
       "5852          507         5.5388       <1H OCEAN  \n",
       "6049          724         3.3472       <1H OCEAN  \n",
       "2743          391         1.8636          INLAND  \n",
       "5657          510         1.5217          INLAND  \n",
       "4951          437         3.7007          INLAND  \n",
       "\n",
       "[10112 rows x 7 columns]"
      ]
     },
     "execution_count": 51,
     "metadata": {},
     "output_type": "execute_result"
    }
   ],
   "source": [
    "X_train"
   ]
  },
  {
   "cell_type": "code",
   "execution_count": 52,
   "metadata": {},
   "outputs": [],
   "source": [
    "y_train = np.log(y_train)\n",
    "y_test = np.log(y_test)"
   ]
  },
  {
   "attachments": {},
   "cell_type": "markdown",
   "metadata": {},
   "source": [
    "### Construcción del pipeline"
   ]
  },
  {
   "cell_type": "code",
   "execution_count": 53,
   "metadata": {},
   "outputs": [],
   "source": [
    "house_value_pipeline = Pipeline([\n",
    "    #=========== IMPUTACIONES ===============\n",
    "    \n",
    "    #1. Imputación de variables numéricas\n",
    "    ('mean_imputation',\n",
    "        MeanMedianImputer(imputation_method='mean', variables=NUMERICAL_VARS_WITH_NA)\n",
    "    ),\n",
    "\n",
    "    #============= CODIFICACIÓN DE VARIABLES CATEGORICAS NOMINALES ==================\n",
    "    \n",
    "    ('categorical_encoder',\n",
    "        CountFrequencyEncoder(encoding_method='frequency', variables=CATEGORICAL_VARS)\n",
    "    ),\n",
    "     #=============== SCALER ============\n",
    "    ('scaler',\n",
    "        MinMaxScaler()\n",
    "    ),\n",
    "    \n",
    "    ('modelo_lasso', \n",
    "         Lasso(alpha=0.01, random_state=2023))\n",
    "])"
   ]
  },
  {
   "cell_type": "code",
   "execution_count": 54,
   "metadata": {},
   "outputs": [
    {
     "data": {
      "text/html": [
       "<style>#sk-container-id-2 {color: black;background-color: white;}#sk-container-id-2 pre{padding: 0;}#sk-container-id-2 div.sk-toggleable {background-color: white;}#sk-container-id-2 label.sk-toggleable__label {cursor: pointer;display: block;width: 100%;margin-bottom: 0;padding: 0.3em;box-sizing: border-box;text-align: center;}#sk-container-id-2 label.sk-toggleable__label-arrow:before {content: \"▸\";float: left;margin-right: 0.25em;color: #696969;}#sk-container-id-2 label.sk-toggleable__label-arrow:hover:before {color: black;}#sk-container-id-2 div.sk-estimator:hover label.sk-toggleable__label-arrow:before {color: black;}#sk-container-id-2 div.sk-toggleable__content {max-height: 0;max-width: 0;overflow: hidden;text-align: left;background-color: #f0f8ff;}#sk-container-id-2 div.sk-toggleable__content pre {margin: 0.2em;color: black;border-radius: 0.25em;background-color: #f0f8ff;}#sk-container-id-2 input.sk-toggleable__control:checked~div.sk-toggleable__content {max-height: 200px;max-width: 100%;overflow: auto;}#sk-container-id-2 input.sk-toggleable__control:checked~label.sk-toggleable__label-arrow:before {content: \"▾\";}#sk-container-id-2 div.sk-estimator input.sk-toggleable__control:checked~label.sk-toggleable__label {background-color: #d4ebff;}#sk-container-id-2 div.sk-label input.sk-toggleable__control:checked~label.sk-toggleable__label {background-color: #d4ebff;}#sk-container-id-2 input.sk-hidden--visually {border: 0;clip: rect(1px 1px 1px 1px);clip: rect(1px, 1px, 1px, 1px);height: 1px;margin: -1px;overflow: hidden;padding: 0;position: absolute;width: 1px;}#sk-container-id-2 div.sk-estimator {font-family: monospace;background-color: #f0f8ff;border: 1px dotted black;border-radius: 0.25em;box-sizing: border-box;margin-bottom: 0.5em;}#sk-container-id-2 div.sk-estimator:hover {background-color: #d4ebff;}#sk-container-id-2 div.sk-parallel-item::after {content: \"\";width: 100%;border-bottom: 1px solid gray;flex-grow: 1;}#sk-container-id-2 div.sk-label:hover label.sk-toggleable__label {background-color: #d4ebff;}#sk-container-id-2 div.sk-serial::before {content: \"\";position: absolute;border-left: 1px solid gray;box-sizing: border-box;top: 0;bottom: 0;left: 50%;z-index: 0;}#sk-container-id-2 div.sk-serial {display: flex;flex-direction: column;align-items: center;background-color: white;padding-right: 0.2em;padding-left: 0.2em;position: relative;}#sk-container-id-2 div.sk-item {position: relative;z-index: 1;}#sk-container-id-2 div.sk-parallel {display: flex;align-items: stretch;justify-content: center;background-color: white;position: relative;}#sk-container-id-2 div.sk-item::before, #sk-container-id-2 div.sk-parallel-item::before {content: \"\";position: absolute;border-left: 1px solid gray;box-sizing: border-box;top: 0;bottom: 0;left: 50%;z-index: -1;}#sk-container-id-2 div.sk-parallel-item {display: flex;flex-direction: column;z-index: 1;position: relative;background-color: white;}#sk-container-id-2 div.sk-parallel-item:first-child::after {align-self: flex-end;width: 50%;}#sk-container-id-2 div.sk-parallel-item:last-child::after {align-self: flex-start;width: 50%;}#sk-container-id-2 div.sk-parallel-item:only-child::after {width: 0;}#sk-container-id-2 div.sk-dashed-wrapped {border: 1px dashed gray;margin: 0 0.4em 0.5em 0.4em;box-sizing: border-box;padding-bottom: 0.4em;background-color: white;}#sk-container-id-2 div.sk-label label {font-family: monospace;font-weight: bold;display: inline-block;line-height: 1.2em;}#sk-container-id-2 div.sk-label-container {text-align: center;}#sk-container-id-2 div.sk-container {/* jupyter's `normalize.less` sets `[hidden] { display: none; }` but bootstrap.min.css set `[hidden] { display: none !important; }` so we also need the `!important` here to be able to override the default hidden behavior on the sphinx rendered scikit-learn.org. See: https://github.com/scikit-learn/scikit-learn/issues/21755 */display: inline-block !important;position: relative;}#sk-container-id-2 div.sk-text-repr-fallback {display: none;}</style><div id=\"sk-container-id-2\" class=\"sk-top-container\"><div class=\"sk-text-repr-fallback\"><pre>Pipeline(steps=[(&#x27;mean_imputation&#x27;,\n",
       "                 MeanMedianImputer(imputation_method=&#x27;mean&#x27;,\n",
       "                                   variables=[&#x27;total_bedrooms&#x27;])),\n",
       "                (&#x27;categorical_encoder&#x27;,\n",
       "                 CountFrequencyEncoder(encoding_method=&#x27;frequency&#x27;,\n",
       "                                       variables=[&#x27;ocean_proximity&#x27;])),\n",
       "                (&#x27;scaler&#x27;, MinMaxScaler()),\n",
       "                (&#x27;modelo_lasso&#x27;, Lasso(alpha=0.01, random_state=2023))])</pre><b>In a Jupyter environment, please rerun this cell to show the HTML representation or trust the notebook. <br />On GitHub, the HTML representation is unable to render, please try loading this page with nbviewer.org.</b></div><div class=\"sk-container\" hidden><div class=\"sk-item sk-dashed-wrapped\"><div class=\"sk-label-container\"><div class=\"sk-label sk-toggleable\"><input class=\"sk-toggleable__control sk-hidden--visually\" id=\"sk-estimator-id-6\" type=\"checkbox\" ><label for=\"sk-estimator-id-6\" class=\"sk-toggleable__label sk-toggleable__label-arrow\">Pipeline</label><div class=\"sk-toggleable__content\"><pre>Pipeline(steps=[(&#x27;mean_imputation&#x27;,\n",
       "                 MeanMedianImputer(imputation_method=&#x27;mean&#x27;,\n",
       "                                   variables=[&#x27;total_bedrooms&#x27;])),\n",
       "                (&#x27;categorical_encoder&#x27;,\n",
       "                 CountFrequencyEncoder(encoding_method=&#x27;frequency&#x27;,\n",
       "                                       variables=[&#x27;ocean_proximity&#x27;])),\n",
       "                (&#x27;scaler&#x27;, MinMaxScaler()),\n",
       "                (&#x27;modelo_lasso&#x27;, Lasso(alpha=0.01, random_state=2023))])</pre></div></div></div><div class=\"sk-serial\"><div class=\"sk-item\"><div class=\"sk-estimator sk-toggleable\"><input class=\"sk-toggleable__control sk-hidden--visually\" id=\"sk-estimator-id-7\" type=\"checkbox\" ><label for=\"sk-estimator-id-7\" class=\"sk-toggleable__label sk-toggleable__label-arrow\">MeanMedianImputer</label><div class=\"sk-toggleable__content\"><pre>MeanMedianImputer(imputation_method=&#x27;mean&#x27;, variables=[&#x27;total_bedrooms&#x27;])</pre></div></div></div><div class=\"sk-item\"><div class=\"sk-estimator sk-toggleable\"><input class=\"sk-toggleable__control sk-hidden--visually\" id=\"sk-estimator-id-8\" type=\"checkbox\" ><label for=\"sk-estimator-id-8\" class=\"sk-toggleable__label sk-toggleable__label-arrow\">CountFrequencyEncoder</label><div class=\"sk-toggleable__content\"><pre>CountFrequencyEncoder(encoding_method=&#x27;frequency&#x27;,\n",
       "                      variables=[&#x27;ocean_proximity&#x27;])</pre></div></div></div><div class=\"sk-item\"><div class=\"sk-estimator sk-toggleable\"><input class=\"sk-toggleable__control sk-hidden--visually\" id=\"sk-estimator-id-9\" type=\"checkbox\" ><label for=\"sk-estimator-id-9\" class=\"sk-toggleable__label sk-toggleable__label-arrow\">MinMaxScaler</label><div class=\"sk-toggleable__content\"><pre>MinMaxScaler()</pre></div></div></div><div class=\"sk-item\"><div class=\"sk-estimator sk-toggleable\"><input class=\"sk-toggleable__control sk-hidden--visually\" id=\"sk-estimator-id-10\" type=\"checkbox\" ><label for=\"sk-estimator-id-10\" class=\"sk-toggleable__label sk-toggleable__label-arrow\">Lasso</label><div class=\"sk-toggleable__content\"><pre>Lasso(alpha=0.01, random_state=2023)</pre></div></div></div></div></div></div></div>"
      ],
      "text/plain": [
       "Pipeline(steps=[('mean_imputation',\n",
       "                 MeanMedianImputer(imputation_method='mean',\n",
       "                                   variables=['total_bedrooms'])),\n",
       "                ('categorical_encoder',\n",
       "                 CountFrequencyEncoder(encoding_method='frequency',\n",
       "                                       variables=['ocean_proximity'])),\n",
       "                ('scaler', MinMaxScaler()),\n",
       "                ('modelo_lasso', Lasso(alpha=0.01, random_state=2023))])"
      ]
     },
     "execution_count": 54,
     "metadata": {},
     "output_type": "execute_result"
    }
   ],
   "source": [
    "house_value_pipeline.fit(X_train, y_train)"
   ]
  },
  {
   "attachments": {},
   "cell_type": "markdown",
   "metadata": {},
   "source": [
    "Se generan los valores predecidos basados en los datos del dataset de prueba"
   ]
  },
  {
   "cell_type": "code",
   "execution_count": 55,
   "metadata": {},
   "outputs": [],
   "source": [
    "preds = house_value_pipeline.predict(X_test)"
   ]
  },
  {
   "attachments": {},
   "cell_type": "markdown",
   "metadata": {},
   "source": [
    "Se obtiene el MSE"
   ]
  },
  {
   "cell_type": "code",
   "execution_count": 78,
   "metadata": {},
   "outputs": [
    {
     "name": "stdout",
     "output_type": "stream",
     "text": [
      "El MSE es para el dataset de prueba es de: 97173.233, y el RMSE es de 311.7262\n"
     ]
    }
   ],
   "source": [
    "rmseTest = round(np.sqrt(mean_squared_error(np.exp(y_test), np.exp(preds))),4)\n",
    "print(f\"El MSE es para el dataset de prueba es de: {rmseTest}, y el RMSE es de {round(rmseTest**0.5, 4)}\")"
   ]
  },
  {
   "attachments": {},
   "cell_type": "markdown",
   "metadata": {},
   "source": [
    "Se obtienen los valores mínimos y máximos"
   ]
  },
  {
   "cell_type": "code",
   "execution_count": 79,
   "metadata": {},
   "outputs": [
    {
     "name": "stdout",
     "output_type": "stream",
     "text": [
      "Para el MSE, el valor mínimo es: 22500.0, y el valor máximo es: 500001.0\n",
      "Mientras que para el RMSE, el valor mínimo es: 150.0, y el valor máximo es: 707.1075\n"
     ]
    }
   ],
   "source": [
    "val_min = round(np.min(np.exp(y_train)),4)\n",
    "val_max = round(np.max(np.exp(y_train)),4)\n",
    "print(f\"Para el MSE, el valor mínimo es: {val_min}, y el valor máximo es: {val_max}\")\n",
    "print(f\"Mientras que para el RMSE, el valor mínimo es: {round(val_min**(1/2),4)}, y el valor máximo es: {round(val_max**(1/2),4)}\")"
   ]
  },
  {
   "attachments": {},
   "cell_type": "markdown",
   "metadata": {},
   "source": [
    "Se valida la variación del MSE "
   ]
  },
  {
   "cell_type": "code",
   "execution_count": 75,
   "metadata": {},
   "outputs": [
    {
     "data": {
      "text/plain": [
       "0.20350372669376607"
      ]
     },
     "execution_count": 75,
     "metadata": {},
     "output_type": "execute_result"
    }
   ],
   "source": [
    "rmseTest / (val_max - val_min)"
   ]
  }
 ],
 "metadata": {
  "kernelspec": {
   "display_name": "Python 3",
   "language": "python",
   "name": "python3"
  },
  "language_info": {
   "codemirror_mode": {
    "name": "ipython",
    "version": 3
   },
   "file_extension": ".py",
   "mimetype": "text/x-python",
   "name": "python",
   "nbconvert_exporter": "python",
   "pygments_lexer": "ipython3",
   "version": "3.11.2"
  },
  "orig_nbformat": 4
 },
 "nbformat": 4,
 "nbformat_minor": 2
}
