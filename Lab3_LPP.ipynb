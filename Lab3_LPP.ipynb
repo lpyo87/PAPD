{
 "cells": [
  {
   "attachments": {},
   "cell_type": "markdown",
   "metadata": {},
   "source": [
    "# Laboratorio #3\n",
    "Luis Pedro Pérez - 22008067"
   ]
  },
  {
   "cell_type": "code",
   "execution_count": 21,
   "metadata": {},
   "outputs": [],
   "source": [
    "import pandas as pd\n",
    "import numpy as np\n",
    "import matplotlib.pyplot as plt\n",
    "from sklearn.pipeline import Pipeline\n",
    "from sklearn.preprocessing import MinMaxScaler, Binarizer\n",
    "from sklearn.model_selection import train_test_split\n",
    "from sklearn.metrics import mean_squared_error, r2_score\n",
    "from sklearn.linear_model import Lasso\n",
    "\n",
    "from feature_engine.imputation import MeanMedianImputer, CategoricalImputer\n",
    "from feature_engine.encoding import OrdinalEncoder, RareLabelEncoder\n",
    "from feature_engine.transformation import LogTransformer\n",
    "from feature_engine.selection import DropFeatures"
   ]
  },
  {
   "attachments": {},
   "cell_type": "markdown",
   "metadata": {},
   "source": [
    "Se cargan los datos a la variable df y se extrae las dimensiones"
   ]
  },
  {
   "cell_type": "code",
   "execution_count": 13,
   "metadata": {},
   "outputs": [
    {
     "name": "stdout",
     "output_type": "stream",
     "text": [
      "La dimensión del dataset es de: (14447, 11)\n"
     ]
    },
    {
     "data": {
      "text/html": [
       "<div>\n",
       "<style scoped>\n",
       "    .dataframe tbody tr th:only-of-type {\n",
       "        vertical-align: middle;\n",
       "    }\n",
       "\n",
       "    .dataframe tbody tr th {\n",
       "        vertical-align: top;\n",
       "    }\n",
       "\n",
       "    .dataframe thead th {\n",
       "        text-align: right;\n",
       "    }\n",
       "</style>\n",
       "<table border=\"1\" class=\"dataframe\">\n",
       "  <thead>\n",
       "    <tr style=\"text-align: right;\">\n",
       "      <th></th>\n",
       "      <th>id</th>\n",
       "      <th>longitude</th>\n",
       "      <th>latitude</th>\n",
       "      <th>housing_median_age</th>\n",
       "      <th>total_rooms</th>\n",
       "      <th>total_bedrooms</th>\n",
       "      <th>population</th>\n",
       "      <th>households</th>\n",
       "      <th>median_income</th>\n",
       "      <th>median_house_value</th>\n",
       "      <th>ocean_proximity</th>\n",
       "    </tr>\n",
       "  </thead>\n",
       "  <tbody>\n",
       "    <tr>\n",
       "      <th>0</th>\n",
       "      <td>9744</td>\n",
       "      <td>-121.65</td>\n",
       "      <td>36.77</td>\n",
       "      <td>15</td>\n",
       "      <td>2191</td>\n",
       "      <td>358.0</td>\n",
       "      <td>1150</td>\n",
       "      <td>330</td>\n",
       "      <td>4.7969</td>\n",
       "      <td>227500.0</td>\n",
       "      <td>&lt;1H OCEAN</td>\n",
       "    </tr>\n",
       "    <tr>\n",
       "      <th>1</th>\n",
       "      <td>13893</td>\n",
       "      <td>-116.27</td>\n",
       "      <td>34.13</td>\n",
       "      <td>37</td>\n",
       "      <td>452</td>\n",
       "      <td>109.0</td>\n",
       "      <td>184</td>\n",
       "      <td>59</td>\n",
       "      <td>3.7292</td>\n",
       "      <td>65800.0</td>\n",
       "      <td>INLAND</td>\n",
       "    </tr>\n",
       "    <tr>\n",
       "      <th>2</th>\n",
       "      <td>18277</td>\n",
       "      <td>-122.07</td>\n",
       "      <td>37.34</td>\n",
       "      <td>35</td>\n",
       "      <td>1172</td>\n",
       "      <td>184.0</td>\n",
       "      <td>512</td>\n",
       "      <td>175</td>\n",
       "      <td>7.3561</td>\n",
       "      <td>500001.0</td>\n",
       "      <td>&lt;1H OCEAN</td>\n",
       "    </tr>\n",
       "    <tr>\n",
       "      <th>3</th>\n",
       "      <td>16176</td>\n",
       "      <td>-122.39</td>\n",
       "      <td>37.74</td>\n",
       "      <td>52</td>\n",
       "      <td>126</td>\n",
       "      <td>24.0</td>\n",
       "      <td>37</td>\n",
       "      <td>27</td>\n",
       "      <td>10.2264</td>\n",
       "      <td>225000.0</td>\n",
       "      <td>NEAR BAY</td>\n",
       "    </tr>\n",
       "    <tr>\n",
       "      <th>4</th>\n",
       "      <td>8843</td>\n",
       "      <td>-118.38</td>\n",
       "      <td>34.09</td>\n",
       "      <td>28</td>\n",
       "      <td>4001</td>\n",
       "      <td>1352.0</td>\n",
       "      <td>1799</td>\n",
       "      <td>1220</td>\n",
       "      <td>2.5784</td>\n",
       "      <td>272900.0</td>\n",
       "      <td>&lt;1H OCEAN</td>\n",
       "    </tr>\n",
       "  </tbody>\n",
       "</table>\n",
       "</div>"
      ],
      "text/plain": [
       "      id  longitude  latitude  housing_median_age  total_rooms  \\\n",
       "0   9744    -121.65     36.77                  15         2191   \n",
       "1  13893    -116.27     34.13                  37          452   \n",
       "2  18277    -122.07     37.34                  35         1172   \n",
       "3  16176    -122.39     37.74                  52          126   \n",
       "4   8843    -118.38     34.09                  28         4001   \n",
       "\n",
       "   total_bedrooms  population  households  median_income  median_house_value  \\\n",
       "0           358.0        1150         330         4.7969            227500.0   \n",
       "1           109.0         184          59         3.7292             65800.0   \n",
       "2           184.0         512         175         7.3561            500001.0   \n",
       "3            24.0          37          27        10.2264            225000.0   \n",
       "4          1352.0        1799        1220         2.5784            272900.0   \n",
       "\n",
       "  ocean_proximity  \n",
       "0       <1H OCEAN  \n",
       "1          INLAND  \n",
       "2       <1H OCEAN  \n",
       "3        NEAR BAY  \n",
       "4       <1H OCEAN  "
      ]
     },
     "execution_count": 13,
     "metadata": {},
     "output_type": "execute_result"
    }
   ],
   "source": [
    "df = pd.read_csv(\"Lab3/train.csv\", sep=\",\")\n",
    "print(\"La dimensión del dataset es de:\", df.shape)\n",
    "df.head()"
   ]
  },
  {
   "attachments": {},
   "cell_type": "markdown",
   "metadata": {},
   "source": [
    "Se extraen los tipos de datos"
   ]
  },
  {
   "cell_type": "code",
   "execution_count": 31,
   "metadata": {},
   "outputs": [
    {
     "data": {
      "text/plain": [
       "id                         int64\n",
       "longitude                float64\n",
       "latitude                 float64\n",
       "housing_median_age         int64\n",
       "total_rooms                int64\n",
       "total_bedrooms           float64\n",
       "population                 int64\n",
       "households                 int64\n",
       "median_income            float64\n",
       "median_house_value       float64\n",
       "ocean_proximity           object\n",
       "total_bedrooms_Mean      float64\n",
       "total_bedrooms_Median    float64\n",
       "total_bedrooms_na        float64\n",
       "dtype: object"
      ]
     },
     "execution_count": 31,
     "metadata": {},
     "output_type": "execute_result"
    }
   ],
   "source": [
    "df.dtypes"
   ]
  },
  {
   "attachments": {},
   "cell_type": "markdown",
   "metadata": {},
   "source": [
    "Se extraen las columnas con valor NA"
   ]
  },
  {
   "cell_type": "code",
   "execution_count": 18,
   "metadata": {},
   "outputs": [
    {
     "data": {
      "text/plain": [
       "total_bedrooms    float64\n",
       "dtype: object"
      ]
     },
     "execution_count": 18,
     "metadata": {},
     "output_type": "execute_result"
    }
   ],
   "source": [
    "cols_con_na=[col for col in df.columns if (df[col].isnull().mean()>0)]\n",
    "df[cols_con_na].dtypes"
   ]
  },
  {
   "attachments": {},
   "cell_type": "markdown",
   "metadata": {},
   "source": [
    "Se obtiene la proporción de faltantes en las columnas que tengan NA"
   ]
  },
  {
   "cell_type": "code",
   "execution_count": 20,
   "metadata": {},
   "outputs": [
    {
     "name": "stdout",
     "output_type": "stream",
     "text": [
      "El total de faltantes para las columnas ['total_bedrooms'], es de: total_bedrooms    0.009483\n",
      "dtype: float64\n"
     ]
    }
   ],
   "source": [
    "prop_nan_per_col = df[cols_con_na].isnull().mean()\n",
    "prop_nan_per_col\n",
    "print(f\"El total de faltantes para las columnas {cols_con_na}, es de: {prop_nan_per_col}\")"
   ]
  },
  {
   "attachments": {},
   "cell_type": "markdown",
   "metadata": {},
   "source": [
    "Se procede a graficar"
   ]
  },
  {
   "cell_type": "code",
   "execution_count": 25,
   "metadata": {},
   "outputs": [
    {
     "data": {
      "image/png": "[encoded data removed]",
      "text/plain": [
       "<Figure size 1000x600 with 1 Axes>"
      ]
     },
     "metadata": {},
     "output_type": "display_data"
    }
   ],
   "source": [
    "plt.figure(figsize=(10, 6))\n",
    "prop_nan_per_col.plot(kind='bar')\n",
    "plt.xlabel('Columnas')\n",
    "plt.ylabel('Proporción de faltantes (%)')\n",
    "plt.title('Proporción de faltantes por columna')\n",
    "plt.xticks(rotation=45)\n",
    "plt.tight_layout()\n",
    "plt.show()"
   ]
  },
  {
   "attachments": {},
   "cell_type": "markdown",
   "metadata": {},
   "source": [
    "#### Imputación de datos"
   ]
  },
  {
   "cell_type": "code",
   "execution_count": 26,
   "metadata": {},
   "outputs": [
    {
     "name": "stdout",
     "output_type": "stream",
     "text": [
      "Media: 537.7787561146051\n",
      "Mediana: 433.0\n"
     ]
    }
   ],
   "source": [
    "media= df['total_bedrooms'].mean()\n",
    "mediana = df['total_bedrooms'].median()\n",
    "print(f\"Media: {media}\")\n",
    "print(f\"Mediana: {mediana}\")"
   ]
  },
  {
   "cell_type": "code",
   "execution_count": 29,
   "metadata": {},
   "outputs": [],
   "source": [
    "df['total_bedrooms_Mean'] = np.round(df['total_bedrooms'].fillna(media), 0)\n",
    "df['total_bedrooms_Median'] = np.round(df['total_bedrooms'].fillna(mediana), 0)\n",
    "df['total_bedrooms_na'] = df['total_bedrooms'].dropna()"
   ]
  },
  {
   "cell_type": "code",
   "execution_count": 30,
   "metadata": {},
   "outputs": [
    {
     "data": {
      "text/plain": [
       "<matplotlib.legend.Legend at 0x24e37735b50>"
      ]
     },
     "execution_count": 30,
     "metadata": {},
     "output_type": "execute_result"
    },
    {
     "data": {
      "image/png": "[encoded data removed]",
      "text/plain": [
       "<Figure size 640x480 with 1 Axes>"
      ]
     },
     "metadata": {},
     "output_type": "display_data"
    }
   ],
   "source": [
    "fig= plt.figure()\n",
    "ax = fig.add_subplot(111)\n",
    "\n",
    "df['total_bedrooms'].plot.density(color='red', label= 'Original')\n",
    "df['total_bedrooms'].plot.density(color='blue', label= \"Media\")\n",
    "df['total_bedrooms'].plot.density(color='green', label= \"Mediana\")\n",
    "df['total_bedrooms_na'].plot.density(color='orange',label = 'Sin NA')\n",
    "ax.legend()"
   ]
  }
 ],
 "metadata": {
  "kernelspec": {
   "display_name": "Python 3",
   "language": "python",
   "name": "python3"
  },
  "language_info": {
   "codemirror_mode": {
    "name": "ipython",
    "version": 3
   },
   "file_extension": ".py",
   "mimetype": "text/x-python",
   "name": "python",
   "nbconvert_exporter": "python",
   "pygments_lexer": "ipython3",
   "version": "3.11.2"
  },
  "orig_nbformat": 4
 },
 "nbformat": 4,
 "nbformat_minor": 2
}
